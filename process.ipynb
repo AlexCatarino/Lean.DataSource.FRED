{
 "cells": [
  {
   "cell_type": "code",
   "execution_count": null,
   "id": "0a833cb2",
   "metadata": {},
   "outputs": [],
   "source": [
    "import clr\n",
    "clr.AddReference(\"qc-synchronizer\")\n",
    "from QuantConnect.DataFleet.Sync import ProducerSynchronizer"
   ]
  },
  {
   "cell_type": "code",
   "execution_count": null,
   "id": "49f98cc5",
   "metadata": {},
   "outputs": [],
   "source": [
    "import os\n",
    "import pandas as pd\n",
    "import requests\n",
    "import sys\n",
    "from pathlib import Path\n",
    "import tarfile\n",
    "from time import sleep\n",
    "\n",
    "%config Completer.use_jedi = False\n",
    "\n",
    "API_KEY = os.environ['FRED_API_KEY']\n",
    "BASE_URL = 'https://api.stlouisfed.org/fred/series/observations?file_type=json&observation_start=1998-01-01'"
   ]
  },
  {
   "cell_type": "code",
   "execution_count": null,
   "id": "f46c3193",
   "metadata": {},
   "outputs": [],
   "source": [
    "def download_fred_symbol(symbol, api_key, session):\n",
    "    \"\"\"\n",
    "    Download series from FRED for a given FRED symbol\n",
    "    \"\"\"\n",
    "    url = BASE_URL + f'&api_key={api_key}&series_id={symbol}'\n",
    "    ex = None\n",
    "    for retries in range(5):\n",
    "        try:\n",
    "            return session.get(url)\n",
    "        except Exception as e:\n",
    "            ex = e\n",
    "            print(f'Failed to download data from URL: {url} - retrying')\n",
    "            sleep(1)\n",
    "            \n",
    "    raise Exception(f'Failed to download data from URL: {url} - max retries exceeded (5/5) -- {ex}')"
   ]
  },
  {
   "cell_type": "code",
   "execution_count": null,
   "id": "c46712a1",
   "metadata": {},
   "outputs": [],
   "source": [
    "def get_dataframe_from_request(request):\n",
    "    \"\"\"\n",
    "    From FRED request's response, get the data as pandas DataFrame.\n",
    "    :return: pandas DataFrame with the values correctly parsed.\n",
    "    \"\"\"\n",
    "    response = request.json()\n",
    "    if 'observations' not in response:\n",
    "        return None\n",
    "        \n",
    "    full_response = pd.DataFrame(response['observations'])\n",
    "    data = full_response.loc[:, ['date', 'value']]\n",
    "    data['value'] = pd.to_numeric(full_response.value, errors='coerce')\n",
    "    data = data.set_index(pd.to_datetime(data.date, errors='coerce'), drop=True)\n",
    "    data.drop('date', axis=1, inplace=True)\n",
    "    return data.dropna()"
   ]
  },
  {
   "cell_type": "code",
   "execution_count": null,
   "id": "60a13a0f",
   "metadata": {},
   "outputs": [],
   "source": [
    "destination_folder = Path('/temp-output-directory/alternative/fred')\n",
    "destination_folder.mkdir(parents=True, exist_ok=True)\n",
    "\n",
    "symbol_list_file = Path('./fred_implemented_series.csv')\n",
    "symbol_list = pd.read_csv(symbol_list_file.resolve(), sep='|', names=['Id', 'Name', 'Unit'])\n",
    "session = requests.Session()\n",
    "\n",
    "for row in symbol_list.iterrows():\n",
    "    symbol = row[1].Id\n",
    "    name = row[1].Name\n",
    "\n",
    "    print(f'Downloading {name} ... ')\n",
    "\n",
    "    request = download_fred_symbol(symbol, API_KEY, session)\n",
    "    df = get_dataframe_from_request(request)\n",
    "    if df is None:\n",
    "        print(f'Download failed for {name} - observations were null')\n",
    "        continue\n",
    "\n",
    "    destination_file = destination_folder / f'{symbol.lower()}.csv'\n",
    "    df.to_csv(destination_file.resolve(), header=None, date_format='%Y%m%d')\n",
    "\n",
    "    sleep(1)"
   ]
  },
  {
   "cell_type": "code",
   "execution_count": null,
   "id": "f3088bc3-ada4-4d5e-b53e-076fe1fdaa08",
   "metadata": {},
   "outputs": [],
   "source": [
    "!aws s3 sync /temp-output-directory/ s3://cache.quantconnect.com/"
   ]
  }
 ],
 "metadata": {
  "kernelspec": {
   "display_name": "Python 3",
   "language": "python",
   "name": "python3"
  },
  "language_info": {
   "codemirror_mode": {
    "name": "ipython",
    "version": 3
   },
   "file_extension": ".py",
   "mimetype": "text/x-python",
   "name": "python",
   "nbconvert_exporter": "python",
   "pygments_lexer": "ipython3",
   "version": "3.8.5"
  }
 },
 "nbformat": 4,
 "nbformat_minor": 5
}
